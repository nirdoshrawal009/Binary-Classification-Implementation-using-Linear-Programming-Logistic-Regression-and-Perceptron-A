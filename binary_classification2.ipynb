{
 "cells": [
  {
   "cell_type": "markdown",
   "id": "d47cd881-177e-4c25-b738-a8f08a304eaa",
   "metadata": {},
   "source": [
    "# Binary Classification using Logical Regression and Perceptron Algorithm"
   ]
  },
  {
   "cell_type": "markdown",
   "id": "67c6f699-7d81-4a2c-b2a8-fe59caa3acff",
   "metadata": {},
   "source": [
    "## Part 1: Data Preparation"
   ]
  },
  {
   "cell_type": "markdown",
   "id": "a95136a2-73ad-4055-afab-f0dfe940c064",
   "metadata": {},
   "source": [
    "### Importing and Checking Data"
   ]
  },
  {
   "cell_type": "code",
   "execution_count": 233,
   "id": "f8e3c881-dcee-4174-9197-726b6da921df",
   "metadata": {},
   "outputs": [],
   "source": [
    "import numpy as np\n",
    "import pandas as pd\n",
    "import matplotlib.pyplot as plt\n",
    "import seaborn as sns\n",
    "import scipy.optimize as sco"
   ]
  },
  {
   "cell_type": "code",
   "execution_count": 234,
   "id": "421e9774-63e7-48f2-9255-746f29cf4d15",
   "metadata": {},
   "outputs": [
    {
     "data": {
      "text/html": [
       "<div>\n",
       "<style scoped>\n",
       "    .dataframe tbody tr th:only-of-type {\n",
       "        vertical-align: middle;\n",
       "    }\n",
       "\n",
       "    .dataframe tbody tr th {\n",
       "        vertical-align: top;\n",
       "    }\n",
       "\n",
       "    .dataframe thead th {\n",
       "        text-align: right;\n",
       "    }\n",
       "</style>\n",
       "<table border=\"1\" class=\"dataframe\">\n",
       "  <thead>\n",
       "    <tr style=\"text-align: right;\">\n",
       "      <th></th>\n",
       "      <th>Age</th>\n",
       "      <th>Gender</th>\n",
       "      <th>Stream</th>\n",
       "      <th>Internships</th>\n",
       "      <th>CGPA</th>\n",
       "      <th>Hostel</th>\n",
       "      <th>HistoryOfBacklogs</th>\n",
       "      <th>PlacedOrNot</th>\n",
       "    </tr>\n",
       "  </thead>\n",
       "  <tbody>\n",
       "    <tr>\n",
       "      <th>0</th>\n",
       "      <td>22</td>\n",
       "      <td>Male</td>\n",
       "      <td>Electronics And Communication</td>\n",
       "      <td>1</td>\n",
       "      <td>8</td>\n",
       "      <td>1</td>\n",
       "      <td>1</td>\n",
       "      <td>1</td>\n",
       "    </tr>\n",
       "    <tr>\n",
       "      <th>1</th>\n",
       "      <td>21</td>\n",
       "      <td>Female</td>\n",
       "      <td>Computer Science</td>\n",
       "      <td>0</td>\n",
       "      <td>7</td>\n",
       "      <td>1</td>\n",
       "      <td>1</td>\n",
       "      <td>1</td>\n",
       "    </tr>\n",
       "    <tr>\n",
       "      <th>2</th>\n",
       "      <td>22</td>\n",
       "      <td>Female</td>\n",
       "      <td>Information Technology</td>\n",
       "      <td>1</td>\n",
       "      <td>6</td>\n",
       "      <td>0</td>\n",
       "      <td>0</td>\n",
       "      <td>1</td>\n",
       "    </tr>\n",
       "    <tr>\n",
       "      <th>3</th>\n",
       "      <td>21</td>\n",
       "      <td>Male</td>\n",
       "      <td>Information Technology</td>\n",
       "      <td>0</td>\n",
       "      <td>8</td>\n",
       "      <td>0</td>\n",
       "      <td>1</td>\n",
       "      <td>1</td>\n",
       "    </tr>\n",
       "    <tr>\n",
       "      <th>4</th>\n",
       "      <td>22</td>\n",
       "      <td>Male</td>\n",
       "      <td>Mechanical</td>\n",
       "      <td>0</td>\n",
       "      <td>8</td>\n",
       "      <td>1</td>\n",
       "      <td>0</td>\n",
       "      <td>1</td>\n",
       "    </tr>\n",
       "  </tbody>\n",
       "</table>\n",
       "</div>"
      ],
      "text/plain": [
       "   Age  Gender                         Stream  Internships  CGPA  Hostel  \\\n",
       "0   22    Male  Electronics And Communication            1     8       1   \n",
       "1   21  Female               Computer Science            0     7       1   \n",
       "2   22  Female         Information Technology            1     6       0   \n",
       "3   21    Male         Information Technology            0     8       0   \n",
       "4   22    Male                     Mechanical            0     8       1   \n",
       "\n",
       "   HistoryOfBacklogs  PlacedOrNot  \n",
       "0                  1            1  \n",
       "1                  1            1  \n",
       "2                  0            1  \n",
       "3                  1            1  \n",
       "4                  0            1  "
      ]
     },
     "execution_count": 234,
     "metadata": {},
     "output_type": "execute_result"
    }
   ],
   "source": [
    "data = pd.read_csv('collegePlace.csv')\n",
    "data.head() # Here PlacedOrNot is the target label or 'y'"
   ]
  },
  {
   "cell_type": "code",
   "execution_count": 235,
   "id": "4de4f225-073e-4bf9-9694-41c0451a5c26",
   "metadata": {},
   "outputs": [
    {
     "data": {
      "text/plain": [
       "array([1, 0], dtype=int64)"
      ]
     },
     "execution_count": 235,
     "metadata": {},
     "output_type": "execute_result"
    }
   ],
   "source": [
    "data['PlacedOrNot'].unique()"
   ]
  },
  {
   "cell_type": "markdown",
   "id": "80f9eadb-d8a2-4a2d-ae3a-ee32298b4dca",
   "metadata": {},
   "source": [
    "Since the target label only contains 2 values mainly 0 and 1 thus a binary classification can be used in the data"
   ]
  },
  {
   "cell_type": "code",
   "execution_count": 236,
   "id": "6e017b7f-2e3a-4603-a0b1-55c704e6dfbb",
   "metadata": {},
   "outputs": [
    {
     "name": "stdout",
     "output_type": "stream",
     "text": [
      "2966\n",
      "1137\n"
     ]
    }
   ],
   "source": [
    "print(len(data))\n",
    "data = data.drop_duplicates(keep=\"first\") # dropping duplicates except the first value that appears\n",
    "print(len(data))"
   ]
  },
  {
   "cell_type": "markdown",
   "id": "ac651a15-865b-4b6a-bde8-e61eba340b86",
   "metadata": {},
   "source": [
    "There are duplicates here but we consider them because we don't consider them as there are no unique way to differentiate between two students(Name, Rollno. not given)"
   ]
  },
  {
   "cell_type": "code",
   "execution_count": 237,
   "id": "4832806e-1df9-4fdb-93cd-bbad941cbf08",
   "metadata": {},
   "outputs": [
    {
     "data": {
      "text/plain": [
       "Age                  0\n",
       "Gender               0\n",
       "Stream               0\n",
       "Internships          0\n",
       "CGPA                 0\n",
       "Hostel               0\n",
       "HistoryOfBacklogs    0\n",
       "PlacedOrNot          0\n",
       "dtype: int64"
      ]
     },
     "execution_count": 237,
     "metadata": {},
     "output_type": "execute_result"
    }
   ],
   "source": [
    "data.isnull().sum()"
   ]
  },
  {
   "cell_type": "markdown",
   "id": "24d6d246-714c-40a7-9cea-a58f38ad707e",
   "metadata": {},
   "source": [
    "Thus there is no missing data"
   ]
  },
  {
   "cell_type": "code",
   "execution_count": 238,
   "id": "817a8b56-4f66-4dbe-9c6b-a3cd4c928e0c",
   "metadata": {},
   "outputs": [
    {
     "data": {
      "text/plain": [
       "1    659\n",
       "0    478\n",
       "Name: PlacedOrNot, dtype: int64"
      ]
     },
     "execution_count": 238,
     "metadata": {},
     "output_type": "execute_result"
    }
   ],
   "source": [
    "data['PlacedOrNot'].value_counts()"
   ]
  },
  {
   "cell_type": "code",
   "execution_count": 239,
   "id": "541b629f-5d98-435d-a23b-f31f49a1b34c",
   "metadata": {},
   "outputs": [
    {
     "data": {
      "text/plain": [
       "Text(0.5, 1.0, 'Label Count')"
      ]
     },
     "execution_count": 239,
     "metadata": {},
     "output_type": "execute_result"
    },
    {
     "data": {
      "image/png": "[encoded data removed]",
      "text/plain": [
       "<Figure size 432x288 with 1 Axes>"
      ]
     },
     "metadata": {
      "needs_background": "light"
     },
     "output_type": "display_data"
    }
   ],
   "source": [
    "target_counter = len(data[data[\"PlacedOrNot\"]==0]),len(data[data[\"PlacedOrNot\"]==1]) # counting the data\n",
    "plt.bar(data['PlacedOrNot'].unique(), target_counter, color='orange', tick_label=[0,1])\n",
    "#plt.set_xticklabels\n",
    "plt.title('Label Count')"
   ]
  },
  {
   "cell_type": "markdown",
   "id": "e45e2754-926c-498a-a619-86ae60c3e826",
   "metadata": {},
   "source": [
    "### Data Preprocessing"
   ]
  },
  {
   "cell_type": "code",
   "execution_count": 240,
   "id": "18c278f1-8db3-4822-91ac-26b9a8eb8347",
   "metadata": {},
   "outputs": [
    {
     "name": "stdout",
     "output_type": "stream",
     "text": [
      "478\n"
     ]
    }
   ],
   "source": [
    "target = 'PlacedOrNot'\n",
    "sample_size = data[target].value_counts().min()\n",
    "print(sample_size)"
   ]
  },
  {
   "cell_type": "code",
   "execution_count": 241,
   "id": "e2335ab0-8c2d-41b4-b6f5-c58bb19ee960",
   "metadata": {},
   "outputs": [
    {
     "data": {
      "text/plain": [
       "0    478\n",
       "1    478\n",
       "Name: PlacedOrNot, dtype: int64"
      ]
     },
     "execution_count": 241,
     "metadata": {},
     "output_type": "execute_result"
    },
    {
     "data": {
      "image/png": "[encoded data removed]",
      "text/plain": [
       "<Figure size 432x288 with 1 Axes>"
      ]
     },
     "metadata": {
      "needs_background": "light"
     },
     "output_type": "display_data"
    }
   ],
   "source": [
    "balanced_data = data.groupby('PlacedOrNot',as_index=False, group_keys=False).apply(lambda x: x.sample(sample_size))\n",
    "balanced_data = balanced_data.reset_index(drop = True)\n",
    "\n",
    "sns.countplot(x=\"PlacedOrNot\",data=balanced_data)\n",
    "balanced_data.PlacedOrNot.value_counts()"
   ]
  },
  {
   "cell_type": "code",
   "execution_count": 242,
   "id": "f1c16771-c343-4d5e-831b-53004c93f525",
   "metadata": {},
   "outputs": [
    {
     "data": {
      "text/html": [
       "<div>\n",
       "<style scoped>\n",
       "    .dataframe tbody tr th:only-of-type {\n",
       "        vertical-align: middle;\n",
       "    }\n",
       "\n",
       "    .dataframe tbody tr th {\n",
       "        vertical-align: top;\n",
       "    }\n",
       "\n",
       "    .dataframe thead th {\n",
       "        text-align: right;\n",
       "    }\n",
       "</style>\n",
       "<table border=\"1\" class=\"dataframe\">\n",
       "  <thead>\n",
       "    <tr style=\"text-align: right;\">\n",
       "      <th></th>\n",
       "      <th>Age</th>\n",
       "      <th>Gender</th>\n",
       "      <th>Stream</th>\n",
       "      <th>Internships</th>\n",
       "      <th>CGPA</th>\n",
       "      <th>Hostel</th>\n",
       "      <th>HistoryOfBacklogs</th>\n",
       "      <th>PlacedOrNot</th>\n",
       "    </tr>\n",
       "  </thead>\n",
       "  <tbody>\n",
       "    <tr>\n",
       "      <th>0</th>\n",
       "      <td>21</td>\n",
       "      <td>Male</td>\n",
       "      <td>Electrical</td>\n",
       "      <td>2</td>\n",
       "      <td>5</td>\n",
       "      <td>0</td>\n",
       "      <td>1</td>\n",
       "      <td>0</td>\n",
       "    </tr>\n",
       "    <tr>\n",
       "      <th>1</th>\n",
       "      <td>23</td>\n",
       "      <td>Male</td>\n",
       "      <td>Information Technology</td>\n",
       "      <td>1</td>\n",
       "      <td>7</td>\n",
       "      <td>1</td>\n",
       "      <td>1</td>\n",
       "      <td>0</td>\n",
       "    </tr>\n",
       "    <tr>\n",
       "      <th>2</th>\n",
       "      <td>26</td>\n",
       "      <td>Male</td>\n",
       "      <td>Computer Science</td>\n",
       "      <td>1</td>\n",
       "      <td>7</td>\n",
       "      <td>0</td>\n",
       "      <td>0</td>\n",
       "      <td>0</td>\n",
       "    </tr>\n",
       "    <tr>\n",
       "      <th>3</th>\n",
       "      <td>19</td>\n",
       "      <td>Male</td>\n",
       "      <td>Computer Science</td>\n",
       "      <td>1</td>\n",
       "      <td>7</td>\n",
       "      <td>0</td>\n",
       "      <td>0</td>\n",
       "      <td>0</td>\n",
       "    </tr>\n",
       "    <tr>\n",
       "      <th>4</th>\n",
       "      <td>24</td>\n",
       "      <td>Male</td>\n",
       "      <td>Electrical</td>\n",
       "      <td>0</td>\n",
       "      <td>7</td>\n",
       "      <td>0</td>\n",
       "      <td>0</td>\n",
       "      <td>0</td>\n",
       "    </tr>\n",
       "  </tbody>\n",
       "</table>\n",
       "</div>"
      ],
      "text/plain": [
       "   Age Gender                  Stream  Internships  CGPA  Hostel  \\\n",
       "0   21   Male              Electrical            2     5       0   \n",
       "1   23   Male  Information Technology            1     7       1   \n",
       "2   26   Male        Computer Science            1     7       0   \n",
       "3   19   Male        Computer Science            1     7       0   \n",
       "4   24   Male              Electrical            0     7       0   \n",
       "\n",
       "   HistoryOfBacklogs  PlacedOrNot  \n",
       "0                  1            0  \n",
       "1                  1            0  \n",
       "2                  0            0  \n",
       "3                  0            0  \n",
       "4                  0            0  "
      ]
     },
     "execution_count": 242,
     "metadata": {},
     "output_type": "execute_result"
    }
   ],
   "source": [
    "balanced_data.head()"
   ]
  },
  {
   "cell_type": "markdown",
   "id": "90f5a3ed-eb3e-4d6e-85f9-b7a7fa9c629b",
   "metadata": {},
   "source": [
    "### Preparing Dataset for Classification"
   ]
  },
  {
   "cell_type": "code",
   "execution_count": 243,
   "id": "51a47ba6-34b8-48c1-a310-644f7cdf9cb7",
   "metadata": {},
   "outputs": [],
   "source": [
    "X = balanced_data.drop(['PlacedOrNot'], axis=1)\n",
    "y = balanced_data.PlacedOrNot.values"
   ]
  },
  {
   "cell_type": "code",
   "execution_count": 244,
   "id": "784664d1-0f6b-433d-951e-007576881123",
   "metadata": {},
   "outputs": [],
   "source": [
    "X = pd.get_dummies(X, drop_first=False)"
   ]
  },
  {
   "cell_type": "code",
   "execution_count": 245,
   "id": "a930adc2-65a9-471a-bb22-962903b1c2ac",
   "metadata": {},
   "outputs": [
    {
     "name": "stdout",
     "output_type": "stream",
     "text": [
      "[[21  2  5 ...  0  0  0]\n",
      " [23  1  7 ...  0  1  0]\n",
      " [26  1  7 ...  0  0  0]\n",
      " ...\n",
      " [21  3  9 ...  1  0  0]\n",
      " [23  1  7 ...  0  1  0]\n",
      " [21  2  6 ...  0  0  0]]\n"
     ]
    }
   ],
   "source": [
    "X = X.values\n",
    "print(X)"
   ]
  },
  {
   "cell_type": "markdown",
   "id": "905c2721-469a-412a-8ea3-5adbd0b6ee6b",
   "metadata": {},
   "source": [
    "## Part 2: Performing Machine Learning Operations"
   ]
  },
  {
   "cell_type": "markdown",
   "id": "18225b4f-2fd0-4fe6-bf7c-7f3fc559aa5c",
   "metadata": {},
   "source": [
    "### Train Test Split"
   ]
  },
  {
   "cell_type": "code",
   "execution_count": 246,
   "id": "3984674c-fcad-4202-a7af-600e77eaa3ed",
   "metadata": {},
   "outputs": [],
   "source": [
    "from sklearn.model_selection import train_test_split\n",
    "\n",
    "X_train,X_test,y_train,y_test = train_test_split(X,y,test_size=0.1, random_state=42)"
   ]
  },
  {
   "cell_type": "markdown",
   "id": "161d2e5d-5dca-4838-8657-5b7124db86d9",
   "metadata": {},
   "source": [
    "### LP Solver"
   ]
  },
  {
   "cell_type": "code",
   "execution_count": 247,
   "id": "46c46531-9e7d-4a39-9524-1488d8b23fa2",
   "metadata": {},
   "outputs": [
    {
     "data": {
      "text/plain": [
       "(13, 860)"
      ]
     },
     "execution_count": 247,
     "metadata": {},
     "output_type": "execute_result"
    }
   ],
   "source": [
    "w = np.ones(len(y_train)).T\n",
    "c = -np.ones(yx.shape[1]).T\n",
    "b = -np.ones(yx.shape[0])\n",
    "y_t = y_train\n",
    "x_t = X_train.T\n",
    "yx = y_t*x_t\n",
    "yx.shape"
   ]
  },
  {
   "cell_type": "code",
   "execution_count": 248,
   "id": "7bd1b7b2-4a61-4d20-9e39-940d5b10ecf1",
   "metadata": {},
   "outputs": [],
   "source": [
    "res = sco.linprog(c, A_ub=-yx, b_ub=b)\n",
    "w = res.x"
   ]
  },
  {
   "cell_type": "code",
   "execution_count": 249,
   "id": "826fd8e4-e912-46c8-b5a7-07cc652bbeac",
   "metadata": {},
   "outputs": [
    {
     "name": "stdout",
     "output_type": "stream",
     "text": [
      "Prediction of Placement: [0, 0, 0, 0, 0, 0, 0, 0, 0, 0, 0, 0, 0]\n",
      "[0, 1, 1, 1, 1, 0, 0, 0, 0, 0, 1, 0, 1]\n",
      "Accuracy: 58.333333333333336\n"
     ]
    },
    {
     "name": "stderr",
     "output_type": "stream",
     "text": [
      "<ipython-input-249-b3e9de32db95>:4: DeprecationWarning: In future, it will be an error for 'np.bool_' scalars to be interpreted as an index\n",
      "  if prediction[i]:\n"
     ]
    }
   ],
   "source": [
    "prediction = list(np.dot(w, yx.T) >= 1)\n",
    "solution = list()\n",
    "for i in prediction:\n",
    "    if prediction[i]:\n",
    "        solution.append(1)\n",
    "    else:\n",
    "        solution.append(0)\n",
    "        \n",
    "print(f'Prediction of Placement: {solution}')\n",
    "print(f'{list(y_test[0:13])}')\n",
    "print('Accuracy: {}'.format(7/12*100))"
   ]
  },
  {
   "cell_type": "code",
   "execution_count": null,
   "id": "b049d022-0b03-4517-8726-af8f855dc83d",
   "metadata": {},
   "outputs": [],
   "source": []
  },
  {
   "cell_type": "markdown",
   "id": "e73254f5-1072-4c5a-beec-dee6cd60f752",
   "metadata": {},
   "source": [
    "### Logical Regression"
   ]
  },
  {
   "cell_type": "markdown",
   "id": "1055b627-0620-4519-8886-8d61db19e92a",
   "metadata": {},
   "source": [
    "#### From Scratch"
   ]
  },
  {
   "cell_type": "code",
   "execution_count": 258,
   "id": "64f841b3-13d1-4f2e-be98-1dca42bb6b94",
   "metadata": {},
   "outputs": [],
   "source": [
    "from sklearn.model_selection import train_test_split\n",
    "\n",
    "X_train,X_test,y_train,y_test = train_test_split(X,y,test_size=0.3, random_state=42)"
   ]
  },
  {
   "cell_type": "code",
   "execution_count": 259,
   "id": "e86b0510-6d2f-4590-b5f2-48f19cd67615",
   "metadata": {},
   "outputs": [
    {
     "name": "stdout",
     "output_type": "stream",
     "text": [
      "x train:  (13, 669)\n",
      "x test:  (13, 287)\n",
      "y train:  (669,)\n",
      "y test:  (287,)\n"
     ]
    }
   ],
   "source": [
    "X_train = X_train.T\n",
    "X_test = X_test.T\n",
    "y_train = y_train.T\n",
    "y_test = y_test.T\n",
    "\n",
    "print(\"x train: \",X_train.shape)\n",
    "print(\"x test: \",X_test.shape)\n",
    "print(\"y train: \",y_train.shape)\n",
    "print(\"y test: \",y_test.shape)"
   ]
  },
  {
   "cell_type": "code",
   "execution_count": 260,
   "id": "75dc84b9-07c9-4f82-9b9c-3ef945ad2302",
   "metadata": {},
   "outputs": [],
   "source": [
    "def initialize_weights_and_bias(dimension):\n",
    "    w = np.full((dimension,1),0.01)\n",
    "    b = 0.0\n",
    "    return w, b"
   ]
  },
  {
   "cell_type": "code",
   "execution_count": 261,
   "id": "bfb3bf36-11f5-433a-a172-2cba50c1b3b3",
   "metadata": {},
   "outputs": [],
   "source": [
    "#%% sigmoid\n",
    "# calculation of z\n",
    "#z = np.dot(w.T,x_train)+b\n",
    "def sigmoid(z):\n",
    "    y_head = 1/(1+np.exp(-z))\n",
    "    return y_head\n",
    "#y_head = sigmoid(5)"
   ]
  },
  {
   "cell_type": "code",
   "execution_count": 262,
   "id": "e2f20d7d-8734-4c8c-9d9b-24eff8c5173a",
   "metadata": {},
   "outputs": [],
   "source": [
    "#%% forward and backward\n",
    "# In backward propagation we will use y_head that found in forward progation\n",
    "# Therefore instead of writing backward propagation method, lets combine forward propagation and backward propagation\n",
    "def forward_backward_propagation(w,b,x_train,y_train):\n",
    "    # forward propagation\n",
    "    z = np.dot(w.T,X_train) + b\n",
    "    y_head = sigmoid(z)\n",
    "    loss = -y_train*np.log(y_head)-(1-y_train)*np.log(1-y_head)\n",
    "    cost = (np.sum(loss))/x_train.shape[1]      # x_train.shape[1]  is for scaling\n",
    "    # backward propagation\n",
    "    derivative_weight = (np.dot(x_train,((y_head-y_train).T)))/x_train.shape[1] # x_train.shape[1]  is for scaling\n",
    "    derivative_bias = np.sum(y_head-y_train)/x_train.shape[1]                 # x_train.shape[1]  is for scaling\n",
    "    gradients = {\"derivative_weight\": derivative_weight,\"derivative_bias\": derivative_bias}\n",
    "    return cost,gradients"
   ]
  },
  {
   "cell_type": "code",
   "execution_count": 263,
   "id": "c4979a36-54ed-4b0d-af4b-42f1063241e1",
   "metadata": {},
   "outputs": [],
   "source": [
    "#%%# Updating (learning) parameters\n",
    "def update(w, b, x_train, y_train, learning_rate,number_of_iterarion):\n",
    "    cost_list = []\n",
    "    cost_list2 = []\n",
    "    index = []\n",
    "    # updating(learning) parameters is number_of_iterarion times\n",
    "    for i in range(number_of_iterarion):\n",
    "        # make forward and backward propagation and find cost and gradients\n",
    "        cost,gradients = forward_backward_propagation(w,b,x_train,y_train)\n",
    "        cost_list.append(cost)\n",
    "        # lets update\n",
    "        w = w - learning_rate * gradients[\"derivative_weight\"]\n",
    "        b = b - learning_rate * gradients[\"derivative_bias\"]\n",
    "        if i % 10 == 0:\n",
    "            cost_list2.append(cost)\n",
    "            index.append(i)\n",
    "            print (\"Cost after iteration %i: %f\" %(i, cost))\n",
    "    # we update(learn) parameters weights and bias\n",
    "    parameters = {\"weight\": w,\"bias\": b}\n",
    "    plt.plot(index,cost_list2)\n",
    "    plt.xticks(index,rotation='vertical')\n",
    "    plt.xlabel(\"Number of Iterarion\")\n",
    "    plt.ylabel(\"Cost\")\n",
    "    plt.show()\n",
    "    return parameters, gradients, cost_list"
   ]
  },
  {
   "cell_type": "code",
   "execution_count": 264,
   "id": "4803a329-f523-4874-a811-06952b0a5708",
   "metadata": {},
   "outputs": [],
   "source": [
    "def predict(w,b,x_test):\n",
    "    # x_test is a input for forward propagation\n",
    "    z = sigmoid(np.dot(w.T,x_test)+b)\n",
    "    Y_prediction = np.zeros((1,x_test.shape[1]))\n",
    "    # if z is bigger than 0.5, our prediction is sign one (y_head=1),\n",
    "    # if z is smaller than 0.5, our prediction is sign zero (y_head=0),\n",
    "    for i in range(z.shape[1]):\n",
    "        if z[0,i]<= 0.5:\n",
    "            Y_prediction[0,i] = 0\n",
    "        else:\n",
    "            Y_prediction[0,i] = 1\n",
    "\n",
    "    return Y_prediction"
   ]
  },
  {
   "cell_type": "code",
   "execution_count": 265,
   "id": "850a8241-f50a-4cdd-a8f3-4fde809c8104",
   "metadata": {},
   "outputs": [
    {
     "name": "stdout",
     "output_type": "stream",
     "text": [
      "Cost after iteration 0: 0.703715\n",
      "Cost after iteration 10: nan\n",
      "Cost after iteration 20: nan\n",
      "Cost after iteration 30: nan\n",
      "Cost after iteration 40: nan\n",
      "Cost after iteration 50: nan\n",
      "Cost after iteration 60: nan\n",
      "Cost after iteration 70: nan\n",
      "Cost after iteration 80: nan\n",
      "Cost after iteration 90: nan\n"
     ]
    },
    {
     "name": "stderr",
     "output_type": "stream",
     "text": [
      "<ipython-input-262-1953952d5955>:8: RuntimeWarning: divide by zero encountered in log\n",
      "  loss = -y_train*np.log(y_head)-(1-y_train)*np.log(1-y_head)\n",
      "<ipython-input-262-1953952d5955>:8: RuntimeWarning: invalid value encountered in multiply\n",
      "  loss = -y_train*np.log(y_head)-(1-y_train)*np.log(1-y_head)\n"
     ]
    },
    {
     "data": {
      "image/png": "[encoded data removed]",
      "text/plain": [
       "<Figure size 432x288 with 1 Axes>"
      ]
     },
     "metadata": {
      "needs_background": "light"
     },
     "output_type": "display_data"
    },
    {
     "name": "stdout",
     "output_type": "stream",
     "text": [
      "train accuracy: 49.47683109118086 %\n",
      "test accuracy: 51.21951219512195 %\n"
     ]
    }
   ],
   "source": [
    "def logistic_regression(x_train, y_train, x_test, y_test, learning_rate ,  num_iterations):\n",
    "    # initialize\n",
    "    dimension =  x_train.shape[0]  \n",
    "    w,b = initialize_weights_and_bias(dimension)\n",
    "    # do not change learning rate\n",
    "    parameters, gradients, cost_list = update(w, b, x_train, y_train, learning_rate,num_iterations)\n",
    "    \n",
    "    y_prediction_test = predict(parameters[\"weight\"],parameters[\"bias\"],x_test)\n",
    "    y_prediction_train = predict(parameters[\"weight\"],parameters[\"bias\"],x_train)\n",
    "\n",
    "    # Print train/test Errors\n",
    "    print(\"train accuracy: {} %\".format(100 - np.mean(np.abs(y_prediction_train - y_train)) * 100))\n",
    "    print(\"test accuracy: {} %\".format(100 - np.mean(np.abs(y_prediction_test - y_test)) * 100))\n",
    "    \n",
    "logistic_regression(X_train, y_train, X_test, y_test,learning_rate = 1, num_iterations = 100) "
   ]
  },
  {
   "cell_type": "markdown",
   "id": "8f316030-a0de-42f1-8c37-6db1e7feac95",
   "metadata": {},
   "source": [
    "- This is because lot of our feature values have become 0 and 1 when we normalise them hence NaN is coming while performing gradient descent"
   ]
  },
  {
   "cell_type": "markdown",
   "id": "e56afaad-e057-4ed5-836e-2abbae1df7fd",
   "metadata": {},
   "source": [
    "### Using in built class"
   ]
  },
  {
   "cell_type": "code",
   "execution_count": 266,
   "id": "f540f172-f6ab-48ce-b1f8-71453dc040d6",
   "metadata": {},
   "outputs": [],
   "source": [
    "X = balanced_data.drop(['PlacedOrNot'], axis=1)\n",
    "y = balanced_data.PlacedOrNot"
   ]
  },
  {
   "cell_type": "code",
   "execution_count": 267,
   "id": "40e8c4a0-7897-42fd-a0a8-428bc5af8257",
   "metadata": {},
   "outputs": [],
   "source": [
    "X = pd.get_dummies(X, drop_first=False)"
   ]
  },
  {
   "cell_type": "code",
   "execution_count": 283,
   "id": "38c6784e-ef61-41fb-a81a-0709ae7faf12",
   "metadata": {},
   "outputs": [],
   "source": [
    "from sklearn.model_selection import train_test_split\n",
    "\n",
    "X_train,X_test,y_train,y_test = train_test_split(X,y,test_size=0.2, random_state=42)"
   ]
  },
  {
   "cell_type": "code",
   "execution_count": 274,
   "id": "3d2c71b7-43e0-45c0-9a2f-335f5ed17be7",
   "metadata": {},
   "outputs": [
    {
     "name": "stdout",
     "output_type": "stream",
     "text": [
      "Train accuracy =  0.7342931937172775\n",
      "\n",
      " [0, 1, 1, 1, 1, 0, 0, 0, 0, 0, 1] \n",
      " [1 1 1 1 0 0 0 0 0 0 0]\n"
     ]
    }
   ],
   "source": [
    "from sklearn.linear_model import LogisticRegression\n",
    "lr = LogisticRegression(random_state=0, max_iter=150)\n",
    "lr.fit(X_train, y_train)\n",
    "print(\"Train accuracy = \",lr.score(X_train,y_train))\n",
    "predictions_lr = lr.predict(X_test)\n",
    "print('\\n {} \\n {}'.format(list(y_test[0:11]),predictions_lr[0:11]))"
   ]
  },
  {
   "cell_type": "code",
   "execution_count": 275,
   "id": "4be66db6-4a75-47be-9f48-f74a33235d83",
   "metadata": {},
   "outputs": [
    {
     "name": "stdout",
     "output_type": "stream",
     "text": [
      "              precision    recall  f1-score   support\n",
      "\n",
      "           0      0.703     0.789     0.743        90\n",
      "           1      0.791     0.706     0.746       102\n",
      "\n",
      "    accuracy                          0.745       192\n",
      "   macro avg      0.747     0.747     0.745       192\n",
      "weighted avg      0.750     0.745     0.745       192\n",
      "\n",
      "ACCURACY: 0.7447916666666666\n"
     ]
    }
   ],
   "source": [
    "from sklearn.metrics import classification_report, accuracy_score\n",
    "\n",
    "# classification report\n",
    "print(classification_report(y_test, predictions_lr, digits=3, zero_division = 1))\n",
    "print(\"ACCURACY:\",accuracy_score(y_test, predictions_lr))"
   ]
  },
  {
   "cell_type": "markdown",
   "id": "81aeb986-28e0-415e-93e3-e1cc48b74fb8",
   "metadata": {},
   "source": [
    "### Perceptron Algorithm"
   ]
  },
  {
   "cell_type": "code",
   "execution_count": 284,
   "id": "bf30e38b-5a02-4e61-b84d-ac11d08ffe95",
   "metadata": {},
   "outputs": [
    {
     "name": "stdout",
     "output_type": "stream",
     "text": [
      "Train accuracy: 0.5340314136125655\n",
      "\n",
      " [0, 1, 1, 1, 1, 0, 0, 0, 0, 0, 1] \n",
      " [1 1 1 1 1 1 1 1 1 1 0]\n"
     ]
    }
   ],
   "source": [
    "from sklearn.linear_model import Perceptron\n",
    "pr = Perceptron(tol=1e-4, random_state=0)\n",
    "pr.fit(X_train,y_train)\n",
    "predictions_pr = pr.predict(X_test)\n",
    "print(\"Train accuracy:\",pr.score(X_train,y_train))\n",
    "print('\\n {} \\n {}'.format(list(y_test[0:11]),predictions_pr[0:11]))"
   ]
  },
  {
   "cell_type": "code",
   "execution_count": 285,
   "id": "e49d99c7-f01b-465d-b59a-6cac65ce5812",
   "metadata": {},
   "outputs": [
    {
     "name": "stdout",
     "output_type": "stream",
     "text": [
      "              precision    recall  f1-score   support\n",
      "\n",
      "           0      0.583     0.078     0.137        90\n",
      "           1      0.539     0.951     0.688       102\n",
      "\n",
      "    accuracy                          0.542       192\n",
      "   macro avg      0.561     0.514     0.413       192\n",
      "weighted avg      0.560     0.542     0.430       192\n",
      "\n",
      "ACCURACY: 0.5416666666666666\n"
     ]
    }
   ],
   "source": [
    "# classification report\n",
    "print(classification_report(y_test, predictions_pr, digits=3, zero_division = 1))\n",
    "print(\"ACCURACY:\",accuracy_score(y_test, predictions_pr))"
   ]
  },
  {
   "cell_type": "code",
   "execution_count": null,
   "id": "0ca30e53-6479-460d-9c59-544d8822dfbc",
   "metadata": {},
   "outputs": [],
   "source": []
  }
 ],
 "metadata": {
  "kernelspec": {
   "display_name": "Python 3",
   "language": "python",
   "name": "python3"
  },
  "language_info": {
   "codemirror_mode": {
    "name": "ipython",
    "version": 3
   },
   "file_extension": ".py",
   "mimetype": "text/x-python",
   "name": "python",
   "nbconvert_exporter": "python",
   "pygments_lexer": "ipython3",
   "version": "3.8.8"
  }
 },
 "nbformat": 4,
 "nbformat_minor": 5
}
